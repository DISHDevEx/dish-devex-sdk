{
 "cells": [
  {
   "cell_type": "code",
   "execution_count": null,
   "id": "41417842-e355-4f77-a7f0-132ba13c2c2c",
   "metadata": {},
   "outputs": [],
   "source": [
    "from devex_sdk import EKS_Connector\n",
    "# from pyspark import StorageLevel\n",
    "# from pyspark.sql.functions import *\n",
    "# import pandas as pd\n",
    "# import seaborn as sns\n",
    "# import matplotlib.pyplot as plt\n",
    "# %matplotlib inline\n",
    "# import numpy as np\n",
    "# #pandas settings\n",
    "# pd.set_option('display.max_columns', None)\n",
    "# pd.set_option('display.max_rows', None)"
   ]
  },
  {
   "cell_type": "code",
   "execution_count": null,
   "id": "bf1645b9-d3eb-42db-a6c6-f66ab9036e56",
   "metadata": {},
   "outputs": [],
   "source": [
    "!pip install pyspark\n"
   ]
  },
  {
   "cell_type": "code",
   "execution_count": null,
   "id": "fafd1d4a-7301-4967-9f97-f34707b73935",
   "metadata": {},
   "outputs": [],
   "source": [
    "%%time\n",
    "nodefs_obj = EKS_Connector(bucket_name= \"dish-dp-uswest2-992240864529-infra-metrics-raw/eks_containerinsights_performance_logs\",year = '2022', month = \"07\", day = \"07\", hour = \"10\", filter_column_value ='NodeFS',setup='128gb')\n",
    "spark_nodefs = nodefs_obj.get_spark()\n",
    "err, nodefs_data = nodefs_obj.read()"
   ]
  },
  {
   "cell_type": "code",
   "execution_count": null,
   "id": "fd2f9dbe-56cc-4f00-aea8-4be7b189b99d",
   "metadata": {},
   "outputs": [],
   "source": [
    "s3://dish-5g.core.pd.g.dp.eks.logs.e/dish-devex-sdk-test-data/eks_sample.parquet"
   ]
  },
  {
   "cell_type": "code",
   "execution_count": null,
   "id": "15603cd2-3497-4191-8f21-47a6ff6aa2bb",
   "metadata": {
    "tags": []
   },
   "outputs": [],
   "source": [
    "from devex_sdk import EKS_Connector\n"
   ]
  },
  {
   "cell_type": "code",
   "execution_count": null,
   "id": "7202d7ed-ab95-494d-a917-bc9493afd2f8",
   "metadata": {},
   "outputs": [],
   "source": [
    "read_one_hour_test = EKS_Connector(bucket_name= 'dish-5g.core.pd.g.dp.eks.logs.e',\n",
    "                                   folder_name='dish-devex-sdk-test-data/',\n",
    "                                   year = -1,\n",
    "                                   month = -1, \n",
    "                                   day = -1,\n",
    "                                   hour=-1,\n",
    "                                   filter_column_value=\"PodNet\")\n",
    "err,df = read_one_hour_test.read()\n",
    "df.show(5)"
   ]
  },
  {
   "cell_type": "code",
   "execution_count": null,
   "id": "ec2e7e96-e523-4bdd-bd7a-5c356e61f071",
   "metadata": {},
   "outputs": [],
   "source": [
    "s3://dish-5g.core.pd.g.dp.eks.logs.e/dish-devex-sdk-test-data/eks_sample.parquet"
   ]
  },
  {
   "cell_type": "code",
   "execution_count": null,
   "id": "deb6d2dd-2437-40a3-a021-710bb21b2d1f",
   "metadata": {},
   "outputs": [],
   "source": [
    "!pwd"
   ]
  },
  {
   "cell_type": "code",
   "execution_count": null,
   "id": "e8606a41-c20c-4dc4-9479-605f97ec7cbe",
   "metadata": {
    "tags": []
   },
   "outputs": [],
   "source": [
    "from devex_sdk import setup_runner\n",
    "setup_runner()"
   ]
  },
  {
   "cell_type": "code",
   "execution_count": null,
   "id": "b0885a8a-8c54-408f-95b3-b9695104f073",
   "metadata": {
    "tags": []
   },
   "outputs": [],
   "source": [
    "%%time\n",
    "read_one_hour_test = EKS_Connector(bucket_name= 'dish-dp-uswest2-992240864529-infra-metrics-raw',\n",
    "                                   folder_name='eks_containerinsights_performance_logs',\n",
    "                                   year = \"2022\",\n",
    "                                   month = \"7\", \n",
    "                                   day = \"7\",\n",
    "                                   hour=\"0\",\n",
    "                                   filter_column_value=\"PodNet\")\n",
    "err,df = read_one_hour_test.read()\n",
    "df.show(5)"
   ]
  },
  {
   "cell_type": "code",
   "execution_count": null,
   "id": "63806e85-fdd5-48f9-bb39-8187c2f69ba1",
   "metadata": {},
   "outputs": [],
   "source": [
    "err"
   ]
  },
  {
   "cell_type": "code",
   "execution_count": null,
   "id": "73c8dd76-5010-402b-b9a0-279c2cc878a8",
   "metadata": {},
   "outputs": [],
   "source": [
    "'dish-dp-uswest2-992240864529-infra-metrics-raw'\n",
    "'eks_containerinsights_performance_logs' "
   ]
  },
  {
   "cell_type": "code",
   "execution_count": 5,
   "id": "8f204414-dc0b-4626-bc3d-7a631aa4a5e5",
   "metadata": {},
   "outputs": [],
   "source": [
    "year = \"2022\"\n",
    "month = \"7\"\n",
    "day = \"10\"\n",
    "hour = \"10\"\n",
    "\n",
    "\n",
    "\n",
    "#for Dask job\n",
    "s3_link_dask = f\"s3a://dish-dp-uswest2-992240864529-infra-metrics-raw/eks_containerinsights_performance_logs/year={year}/month={month}/day={day}/hour={hour}/*.snappy.parquet\"\n",
    "\n"
   ]
  },
  {
   "cell_type": "code",
   "execution_count": 6,
   "id": "2e01a880-96c8-4240-9fa3-b12ba1a2afee",
   "metadata": {},
   "outputs": [],
   "source": [
    "import dask.dataframe as dd"
   ]
  },
  {
   "cell_type": "code",
   "execution_count": 7,
   "id": "62c2b04c-0e11-4deb-99bf-a9ad29d2f455",
   "metadata": {},
   "outputs": [],
   "source": [
    "def Dask_dd():\n",
    "    #df = dd.read_parquet(\"s3a://dish-5g.core.pd.g.dp.eks.logs.e/dish-devex-sdk-test-data/part-00000-f95f3fdf-7bb8-4d4f-bdbf-7ac15f2a7f10.c000.snappy.parquet\")\n",
    "    df = dd.read_parquet(s3_link_dask)\n",
    "    \n",
    "    return df"
   ]
  },
  {
   "cell_type": "code",
   "execution_count": 8,
   "id": "a8559eb5-d0e9-46a3-ad3b-1a08f40024db",
   "metadata": {},
   "outputs": [
    {
     "name": "stderr",
     "output_type": "stream",
     "text": [
      "/opt/conda/lib/python3.7/site-packages/botocore/utils.py:1723: FutureWarning: The S3RegionRedirector class has been deprecated for a new internal replacement. A future version of botocore may remove this class.\n",
      "  category=FutureWarning,\n"
     ]
    }
   ],
   "source": [
    "dd = Dask_dd()"
   ]
  },
  {
   "cell_type": "code",
   "execution_count": 12,
   "id": "de60a30a-9a0f-44f0-847d-644708b7c518",
   "metadata": {},
   "outputs": [
    {
     "data": {
      "text/plain": [
       "0"
      ]
     },
     "execution_count": 12,
     "metadata": {},
     "output_type": "execute_result"
    }
   ],
   "source": [
    "len(dd)"
   ]
  },
  {
   "cell_type": "code",
   "execution_count": null,
   "id": "2d3d323b-dd13-4550-9d5c-f5e554d16eff",
   "metadata": {},
   "outputs": [],
   "source": []
  }
 ],
 "metadata": {
  "instance_type": "ml.t3.medium",
  "kernelspec": {
   "display_name": "Python 3 (Data Science)",
   "language": "python",
   "name": "python3__SAGEMAKER_INTERNAL__arn:aws:sagemaker:us-east-1:081325390199:image/datascience-1.0"
  },
  "language_info": {
   "codemirror_mode": {
    "name": "ipython",
    "version": 3
   },
   "file_extension": ".py",
   "mimetype": "text/x-python",
   "name": "python",
   "nbconvert_exporter": "python",
   "pygments_lexer": "ipython3",
   "version": "3.7.10"
  }
 },
 "nbformat": 4,
 "nbformat_minor": 5
}
