{
 "cells": [
  {
   "cell_type": "markdown",
   "metadata": {},
   "source": [
    "## Test Parent Connector"
   ]
  },
  {
   "cell_type": "code",
   "execution_count": 1,
   "metadata": {},
   "outputs": [],
   "source": [
    "from spark_utils import Spark_Utils"
   ]
  },
  {
   "cell_type": "code",
   "execution_count": 2,
   "metadata": {},
   "outputs": [],
   "source": [
    "from spark_data_connector import Spark_Data_Connector"
   ]
  },
  {
   "cell_type": "code",
   "execution_count": 3,
   "metadata": {},
   "outputs": [],
   "source": [
    "from container_insights_schema.eks_raw_pyspark_schema import eks_performance_logs_schema"
   ]
  },
  {
   "cell_type": "code",
   "execution_count": null,
   "metadata": {},
   "outputs": [],
   "source": [
    "## test the parent data connector --> "
   ]
  },
  {
   "cell_type": "code",
   "execution_count": 4,
   "metadata": {},
   "outputs": [],
   "source": [
    "schema1 = eks_performance_logs_schema\n",
    "read_rando_s3 = Spark_Data_Connector()"
   ]
  },
  {
   "cell_type": "code",
   "execution_count": 5,
   "metadata": {},
   "outputs": [],
   "source": [
    "s3_file_path = \"s3a://dish-dp-uswest2-992240864529-infra-metrics-raw/eks_containerinsights_performance_logs/year=2022/month=10/day=1/hour=0/part-00000-f26394b4-8cbd-48cf-8bb7-3045c3eeb279.c000.snappy.parquet\""
   ]
  },
  {
   "cell_type": "code",
   "execution_count": 6,
   "metadata": {},
   "outputs": [
    {
     "data": {
      "text/plain": [
       "'s3a://dish-dp-uswest2-992240864529-infra-metrics-raw/eks_containerinsights_performance_logs/year=2022/month=10/day=1/hour=0/part-00000-f26394b4-8cbd-48cf-8bb7-3045c3eeb279.c000.snappy.parquet'"
      ]
     },
     "execution_count": 6,
     "metadata": {},
     "output_type": "execute_result"
    }
   ],
   "source": [
    "read_rando_s3.set_s3_path_link(s3_file_path)\n",
    "read_rando_s3._s3_file_path"
   ]
  },
  {
   "cell_type": "code",
   "execution_count": 7,
   "metadata": {},
   "outputs": [],
   "source": [
    "read_rando_s3._read_schema"
   ]
  },
  {
   "cell_type": "code",
   "execution_count": 8,
   "metadata": {},
   "outputs": [],
   "source": [
    "err,df = read_rando_s3.read_parquet()"
   ]
  },
  {
   "cell_type": "code",
   "execution_count": null,
   "metadata": {},
   "outputs": [],
   "source": [
    "df.show(5)"
   ]
  },
  {
   "cell_type": "markdown",
   "metadata": {},
   "source": [
    "## test the eks data connector"
   ]
  },
  {
   "cell_type": "code",
   "execution_count": 1,
   "metadata": {},
   "outputs": [],
   "source": [
    "from container_insights_schema import eks_performance_logs_schema"
   ]
  },
  {
   "cell_type": "code",
   "execution_count": 2,
   "metadata": {},
   "outputs": [
    {
     "data": {
      "text/plain": [
       "'/root/delete_once_done_with_pr/dish-devex-sdk/devex_sdk/data_ingestion'"
      ]
     },
     "execution_count": 2,
     "metadata": {},
     "output_type": "execute_result"
    }
   ],
   "source": [
    "pwd"
   ]
  },
  {
   "cell_type": "code",
   "execution_count": 3,
   "metadata": {},
   "outputs": [],
   "source": [
    "from eks_connector import Eks_Connector"
   ]
  },
  {
   "cell_type": "code",
   "execution_count": 4,
   "metadata": {},
   "outputs": [],
   "source": [
    "read_one_hour_test = Eks_Connector(year = \"2022\",month = \"10\", day = \"1\",hour=\"0\")"
   ]
  },
  {
   "cell_type": "code",
   "execution_count": 5,
   "metadata": {},
   "outputs": [],
   "source": [
    "err,df = read_one_hour_test.read()"
   ]
  },
  {
   "cell_type": "code",
   "execution_count": 6,
   "metadata": {},
   "outputs": [
    {
     "name": "stdout",
     "output_type": "stream",
     "text": [
      "+------------+--------------------+--------------------+--------------------+--------------------+-------------------------------+-------------------------------+-------------------+-------------------+--------------------+--------------------+--------------------+--------------------+-------------------+------------+--------------------+--------------------+-------------+----+-------+--------------------+--------------+----------------+--------------------------+---------------------+--------------------+-------------------+--------------------+-----------------+-------------------+--------------------------------+-----------------------------------+-----------------+-----------------------+---------------------+-------------------+----------------------+-------------------+-----------------------------+---------------+----------------+-----------------+-----------------------+-----------------------+---------------------+-----------------------+----------------------+-----------------------+------------------------+---------------------+-----------------------+----------------------+-----------------------+---------------------------------+---------------------------+---------+\n",
      "|  account_id|      log_group_name|     log_stream_name|           record_id|         stream_name|record_arrival_stream_timestamp|record_arrival_stream_epochtime|log_event_timestamp|log_event_epochtime|        log_event_id|AutoScalingGroupName|   CloudWatchMetrics|         ClusterName|         InstanceId|InstanceType|            NodeName|             Sources|    Timestamp|Type|Version|          kubernetes|node_cpu_limit|node_cpu_request|node_cpu_reserved_capacity|node_cpu_usage_system|node_cpu_usage_total|node_cpu_usage_user|node_cpu_utilization|node_memory_cache|node_memory_failcnt|node_memory_hierarchical_pgfault|node_memory_hierarchical_pgmajfault|node_memory_limit|node_memory_mapped_file|node_memory_max_usage|node_memory_pgfault|node_memory_pgmajfault|node_memory_request|node_memory_reserved_capacity|node_memory_rss|node_memory_swap|node_memory_usage|node_memory_utilization|node_memory_working_set|node_network_rx_bytes|node_network_rx_dropped|node_network_rx_errors|node_network_rx_packets|node_network_total_bytes|node_network_tx_bytes|node_network_tx_dropped|node_network_tx_errors|node_network_tx_packets|node_number_of_running_containers|node_number_of_running_pods|   region|\n",
      "+------------+--------------------+--------------------+--------------------+--------------------+-------------------------------+-------------------------------+-------------------+-------------------+--------------------+--------------------+--------------------+--------------------+-------------------+------------+--------------------+--------------------+-------------+----+-------+--------------------+--------------+----------------+--------------------------+---------------------+--------------------+-------------------+--------------------+-----------------+-------------------+--------------------------------+-----------------------------------+-----------------+-----------------------+---------------------+-------------------+----------------------+-------------------+-----------------------------+---------------+----------------+-----------------+-----------------------+-----------------------+---------------------+-----------------------+----------------------+-----------------------+------------------------+---------------------+-----------------------+----------------------+-----------------------+---------------------------------+---------------------------+---------+\n",
      "|573697193355|/aws/containerins...|ip-172-24-69-98.e...|49632384803108978...|dp-us-west-2-cont...|            2022-10-01 00:00:47|                     1664582447|2022-10-01 00:00:42|      1664582442000|37121428900989879...|oracle-ndc-infra-...|[{\"Dimensions\":[[...|oracle-ndc-eks-cl...|i-04a4b2462d91b8365| m5.16xlarge|ip-172-24-69-98.e...|[\"cadvisor\",\"/pro...|1664582428366|Node|      0|{\"host\":\"ip-172-2...|         64000|           50381|                78.7203125|    191.1683944269742|    461.845912226877|   280.852332553209|  0.7216342378544953|      10708180992|                  0|                               0|                                  0|     267382874112|              717471744|          51391832064|                  0|                     0|        71153928704|           26.611251352693365|    36999852032|               0|      47708033024|     14.394578399167807|            38488637440|    4169680.134180426|                      0|                     0|      6412.086895541136|        8390609.60411224|    4220929.469931814|                      0|                     0|      4434.320049494168|                               36|                         24|us-west-2|\n",
      "|087516029837|/aws/containerins...|ip-100-64-8-12.ec...|49632384803108978...|dp-us-west-2-cont...|            2022-10-01 00:00:48|                     1664582448|2022-10-01 00:00:42|      1664582442000|37121428900989879...|nk-rdc-smf-asg-de...|[{\"Dimensions\":[[...|nk-rdc-eks-cluste...|i-04dbbddb9cfb18e83|m5n.24xlarge|ip-100-64-8-12.ec...|[\"cadvisor\",\"/pro...|1664582433341|Node|      0|{\"host\":\"ip-100-6...|         96000|            1916|        1.9958333333333336|    64.60132127550219|  192.23173680297316|  97.92592216401772| 0.20024139250309705|       6054289408|                  0|                               0|                                  0|     401266020352|              580141056|          15167795200|                  0|                     0|         1207959552|           0.3010370902924572|      660484096|               0|       6714773504|     0.4402761356294829|             1766678528|   11167.762590273887|                      0|                     0|     42.335275095242636|      23696.285922527313|    12528.52333225343|                      0|                     0|     40.771439075893305|                               14|                         10|us-west-2|\n",
      "|655996427144|/aws/containerins...|ip-172-24-71-50.e...|49632384803108978...|dp-us-west-2-cont...|            2022-10-01 00:00:48|                     1664582448|2022-10-01 00:00:42|      1664582442000|37121428900989879...|s8-ndc-xcipio-asg...|[{\"Dimensions\":[[...|s8-ndc-eks-cluste...|i-0e21a7dbb3b610b9e|m5n.16xlarge|ip-172-24-71-50.e...|[\"cadvisor\",\"/pro...|1664582432614|Node|      0|{\"host\":\"ip-172-2...|         64000|            1666|                  2.603125|   43.624247754547824|   173.4177455009628| 122.27298116149247|  0.2709652273452544|       8540975104|                  0|                            null|                                  0|     267382837248|              623800320|          13341364224|               null|                     0|         1186988032|           0.4439282805945611|      745881600|               0|       9286856704|     0.6843347953192859|             1829793792|   18423.629977853278|                      0|                     0|      66.45270715298504|       34006.33636322652|    15582.70638537324|                      0|                     0|       67.2814115010105|                               14|                         10|us-west-2|\n",
      "|294485975972|/aws/containerins...|ip-172-24-71-137....|49632384803108978...|dp-us-west-2-cont...|            2022-10-01 00:00:48|                     1664582448|2022-10-01 00:00:43|      1664582443000|37121428923290624...|mv-ndc-mco1-asg-d...|[{\"Dimensions\":[[...|mv-ndc-eks-cluste...|i-0b9338508727a6fb2| m5.16xlarge|ip-172-24-71-137....|[\"cadvisor\",\"/pro...|1664582441545|Node|      0|{\"host\":\"ip-172-2...|         64000|           10631|                16.6109375|    153.4696780231239|  479.49859523329275|  279.5034359527284|  0.7492165550520199|       9143570432|                  0|                               0|                                  0|     267382837248|              981319680|          20881440768|                  0|                     0|        25979518976|            9.716225335698626|     9558491136|               0|      18702061568|      4.952579476040792|            13242347520|    51534.38911353752|                      0|                     0|      378.4728018734134|      121546.31311793345|     70011.9240043959|                      0|                     0|      380.5019167969965|                               37|                         33|us-west-2|\n",
      "|573697193355|/aws/containerins...|ip-172-24-56-49.e...|49632384803108978...|dp-us-west-2-cont...|            2022-10-01 00:00:49|                     1664582449|2022-10-01 00:00:44|      1664582444000|37121428945591369...|oracle-ndc-infra-...|[{\"Dimensions\":[[...|oracle-ndc-eks-cl...|i-0e133fec24b587f88| m5.16xlarge|ip-172-24-56-49.e...|[\"cadvisor\",\"/pro...|1664582441242|Node|      0|{\"host\":\"ip-172-2...|         64000|           38466|                 60.103125|    80.94674201073808|   284.3721139190557|  180.6591334463624| 0.44433142799852454|      21023490048|                  0|                               0|                                  0|     264564264960|              647995392|          51384967168|                  0|                     0|        40089157632|           15.152899669976655|     3898544128|               0|      24922034176|      4.014345058130106|            10620522496|   409063.29524405184|                      0|                     0|     2461.7987550613466|       846150.6229247976|   437087.32768074574|                      0|                     0|      2463.245936500046|                               25|                         15|us-west-2|\n",
      "+------------+--------------------+--------------------+--------------------+--------------------+-------------------------------+-------------------------------+-------------------+-------------------+--------------------+--------------------+--------------------+--------------------+-------------------+------------+--------------------+--------------------+-------------+----+-------+--------------------+--------------+----------------+--------------------------+---------------------+--------------------+-------------------+--------------------+-----------------+-------------------+--------------------------------+-----------------------------------+-----------------+-----------------------+---------------------+-------------------+----------------------+-------------------+-----------------------------+---------------+----------------+-----------------+-----------------------+-----------------------+---------------------+-----------------------+----------------------+-----------------------+------------------------+---------------------+-----------------------+----------------------+-----------------------+---------------------------------+---------------------------+---------+\n",
      "only showing top 5 rows\n",
      "\n"
     ]
    }
   ],
   "source": [
    "df.show(5)"
   ]
  },
  {
   "cell_type": "code",
   "execution_count": 7,
   "metadata": {},
   "outputs": [
    {
     "name": "stdout",
     "output_type": "stream",
     "text": [
      "PASS\n"
     ]
    }
   ],
   "source": [
    "print(err)"
   ]
  },
  {
   "cell_type": "markdown",
   "metadata": {},
   "source": [
    "## test the nested json connector"
   ]
  },
  {
   "cell_type": "code",
   "execution_count": null,
   "metadata": {},
   "outputs": [],
   "source": []
  }
 ],
 "metadata": {
  "instance_type": "ml.t3.2xlarge",
  "kernelspec": {
   "display_name": "Python 3 (Data Science)",
   "language": "python",
   "name": "python3__SAGEMAKER_INTERNAL__arn:aws:sagemaker:us-west-2:236514542706:image/datascience-1.0"
  },
  "language_info": {
   "codemirror_mode": {
    "name": "ipython",
    "version": 3
   },
   "file_extension": ".py",
   "mimetype": "text/x-python",
   "name": "python",
   "nbconvert_exporter": "python",
   "pygments_lexer": "ipython3",
   "version": "3.7.10"
  }
 },
 "nbformat": 4,
 "nbformat_minor": 4
}
