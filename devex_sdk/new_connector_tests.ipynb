{
 "cells": [
  {
   "cell_type": "markdown",
   "metadata": {},
   "source": [
    "## Test Parent Connector"
   ]
  },
  {
   "cell_type": "code",
   "execution_count": null,
   "metadata": {},
   "outputs": [],
   "source": [
    "# ##setup\n",
    "# !/root/delete_once_done_with_pr/dish-devex-sdk/devex_sdk/project_inital_setup/notebook_setup_run.sh"
   ]
  },
  {
   "cell_type": "code",
   "execution_count": 2,
   "metadata": {},
   "outputs": [
    {
     "data": {
      "text/plain": [
       "'/root/delete_once_done_with_pr/dish-devex-sdk/devex_sdk'"
      ]
     },
     "execution_count": 2,
     "metadata": {},
     "output_type": "execute_result"
    }
   ],
   "source": [
    "pwd"
   ]
  },
  {
   "cell_type": "code",
   "execution_count": 3,
   "metadata": {},
   "outputs": [],
   "source": [
    "from data_ingestion import Spark_Utils"
   ]
  },
  {
   "cell_type": "code",
   "execution_count": 4,
   "metadata": {},
   "outputs": [],
   "source": [
    "from data_ingestion import Spark_Data_Connector"
   ]
  },
  {
   "cell_type": "code",
   "execution_count": 5,
   "metadata": {},
   "outputs": [],
   "source": [
    "from data_ingestion import eks_performance_logs_schema"
   ]
  },
  {
   "cell_type": "code",
   "execution_count": 6,
   "metadata": {},
   "outputs": [],
   "source": [
    "## test the parent data connector --> "
   ]
  },
  {
   "cell_type": "code",
   "execution_count": 8,
   "metadata": {},
   "outputs": [],
   "source": [
    "schema1 = eks_performance_logs_schema\n",
    "read_rando_s3 = Spark_Data_Connector()"
   ]
  },
  {
   "cell_type": "code",
   "execution_count": 9,
   "metadata": {},
   "outputs": [],
   "source": [
    "s3_file_path = \"s3a://dish-dp-uswest2-992240864529-infra-metrics-raw/eks_containerinsights_performance_logs/year=2022/month=10/day=1/hour=0/part-00000-f26394b4-8cbd-48cf-8bb7-3045c3eeb279.c000.snappy.parquet\""
   ]
  },
  {
   "cell_type": "code",
   "execution_count": 10,
   "metadata": {},
   "outputs": [
    {
     "data": {
      "text/plain": [
       "'s3a://dish-dp-uswest2-992240864529-infra-metrics-raw/eks_containerinsights_performance_logs/year=2022/month=10/day=1/hour=0/part-00000-f26394b4-8cbd-48cf-8bb7-3045c3eeb279.c000.snappy.parquet'"
      ]
     },
     "execution_count": 10,
     "metadata": {},
     "output_type": "execute_result"
    }
   ],
   "source": [
    "read_rando_s3.set_s3_path_link(s3_file_path)\n",
    "read_rando_s3._s3_file_path"
   ]
  },
  {
   "cell_type": "code",
   "execution_count": 11,
   "metadata": {},
   "outputs": [],
   "source": [
    "read_rando_s3._read_schema"
   ]
  },
  {
   "cell_type": "code",
   "execution_count": 12,
   "metadata": {},
   "outputs": [],
   "source": [
    "err,df = read_rando_s3.read_parquet()"
   ]
  },
  {
   "cell_type": "code",
   "execution_count": 13,
   "metadata": {},
   "outputs": [
    {
     "name": "stdout",
     "output_type": "stream",
     "text": [
      "+------------+--------------------+--------------------+--------------------+--------------------+-------------------------------+-------------------------------+-------------------+-------------------+--------------------+--------------------+---------+\n",
      "|  account_id|      log_group_name|     log_stream_name|           record_id|         stream_name|record_arrival_stream_timestamp|record_arrival_stream_epochtime|log_event_timestamp|log_event_epochtime|        log_event_id|   log_event_message|   region|\n",
      "+------------+--------------------+--------------------+--------------------+--------------------+-------------------------------+-------------------------------+-------------------+-------------------+--------------------+--------------------+---------+\n",
      "|573697193355|/aws/containerins...|ip-172-24-69-98.e...|49632384803108978...|dp-us-west-2-cont...|            2022-10-01 00:00:47|                     1664582447|2022-10-01 00:00:42|      1664582442000|37121428900989879...|{\"AutoScalingGrou...|us-west-2|\n",
      "|573697193355|/aws/containerins...|ip-172-24-69-98.e...|49632384803108978...|dp-us-west-2-cont...|            2022-10-01 00:00:47|                     1664582447|2022-10-01 00:00:42|      1664582442000|37121428900989879...|{\"AutoScalingGrou...|us-west-2|\n",
      "|573697193355|/aws/containerins...|ip-172-24-69-98.e...|49632384803108978...|dp-us-west-2-cont...|            2022-10-01 00:00:47|                     1664582447|2022-10-01 00:00:42|      1664582442000|37121428900989879...|{\"AutoScalingGrou...|us-west-2|\n",
      "|573697193355|/aws/containerins...|ip-172-24-69-98.e...|49632384803108978...|dp-us-west-2-cont...|            2022-10-01 00:00:47|                     1664582447|2022-10-01 00:00:42|      1664582442000|37121428900989879...|{\"AutoScalingGrou...|us-west-2|\n",
      "|573697193355|/aws/containerins...|ip-172-24-69-98.e...|49632384803108978...|dp-us-west-2-cont...|            2022-10-01 00:00:47|                     1664582447|2022-10-01 00:00:42|      1664582442000|37121428900989879...|{\"AutoScalingGrou...|us-west-2|\n",
      "+------------+--------------------+--------------------+--------------------+--------------------+-------------------------------+-------------------------------+-------------------+-------------------+--------------------+--------------------+---------+\n",
      "only showing top 5 rows\n",
      "\n"
     ]
    }
   ],
   "source": [
    "df.show(5)"
   ]
  },
  {
   "cell_type": "markdown",
   "metadata": {},
   "source": [
    "## test the eks data connector"
   ]
  },
  {
   "cell_type": "code",
   "execution_count": 7,
   "metadata": {},
   "outputs": [],
   "source": [
    "from data_ingestion import eks_performance_logs_schema"
   ]
  },
  {
   "cell_type": "code",
   "execution_count": 8,
   "metadata": {},
   "outputs": [
    {
     "data": {
      "text/plain": [
       "'/root/delete_once_done_with_pr/dish-devex-sdk/devex_sdk'"
      ]
     },
     "execution_count": 8,
     "metadata": {},
     "output_type": "execute_result"
    }
   ],
   "source": [
    "pwd"
   ]
  },
  {
   "cell_type": "code",
   "execution_count": 9,
   "metadata": {},
   "outputs": [],
   "source": [
    "from data_ingestion import EKS_Connector"
   ]
  },
  {
   "cell_type": "code",
   "execution_count": 11,
   "metadata": {},
   "outputs": [],
   "source": [
    "read_one_hour_test = EKS_Connector(year = \"2022\",month = \"10\", day = \"1\",hour=\"0\",filter_column_value=\"Pod\")"
   ]
  },
  {
   "cell_type": "code",
   "execution_count": 12,
   "metadata": {},
   "outputs": [],
   "source": [
    "err,df = read_one_hour_test.read()"
   ]
  },
  {
   "cell_type": "code",
   "execution_count": 13,
   "metadata": {},
   "outputs": [
    {
     "name": "stdout",
     "output_type": "stream",
     "text": [
      "+------------+--------------------+--------------------+--------------------+--------------------+-------------------------------+-------------------------------+-------------------+-------------------+--------------------+--------------------+--------------------+--------------------+-------------------+------------+--------------------+--------------------+--------------------+--------------------+--------------------+-------------+----+-------+--------------------+-------------+---------------+-------------------------+--------------------+-------------------+------------------+--------------------+----------------------------------+----------------+------------------+-------------------------------+----------------------------------+----------------+----------------------+--------------------+------------------+---------------------+------------------+----------------------------+--------------+---------------+----------------+----------------------+-------------------------------------+----------------------+--------------------+----------------------+---------------------+----------------------+-----------------------+--------------------+----------------------+---------------------+----------------------+--------------------------------+------------------------+--------------------------------+----------+---------+\n",
      "|  account_id|      log_group_name|     log_stream_name|           record_id|         stream_name|record_arrival_stream_timestamp|record_arrival_stream_epochtime|log_event_timestamp|log_event_epochtime|        log_event_id|AutoScalingGroupName|   CloudWatchMetrics|         ClusterName|         InstanceId|InstanceType|           Namespace|            NodeName|             PodName|             Service|             Sources|    Timestamp|Type|Version|          kubernetes|pod_cpu_limit|pod_cpu_request|pod_cpu_reserved_capacity|pod_cpu_usage_system|pod_cpu_usage_total|pod_cpu_usage_user| pod_cpu_utilization|pod_cpu_utilization_over_pod_limit|pod_memory_cache|pod_memory_failcnt|pod_memory_hierarchical_pgfault|pod_memory_hierarchical_pgmajfault|pod_memory_limit|pod_memory_mapped_file|pod_memory_max_usage|pod_memory_pgfault|pod_memory_pgmajfault|pod_memory_request|pod_memory_reserved_capacity|pod_memory_rss|pod_memory_swap|pod_memory_usage|pod_memory_utilization|pod_memory_utilization_over_pod_limit|pod_memory_working_set|pod_network_rx_bytes|pod_network_rx_dropped|pod_network_rx_errors|pod_network_rx_packets|pod_network_total_bytes|pod_network_tx_bytes|pod_network_tx_dropped|pod_network_tx_errors|pod_network_tx_packets|pod_number_of_container_restarts|pod_number_of_containers|pod_number_of_running_containers|pod_status|   region|\n",
      "+------------+--------------------+--------------------+--------------------+--------------------+-------------------------------+-------------------------------+-------------------+-------------------+--------------------+--------------------+--------------------+--------------------+-------------------+------------+--------------------+--------------------+--------------------+--------------------+--------------------+-------------+----+-------+--------------------+-------------+---------------+-------------------------+--------------------+-------------------+------------------+--------------------+----------------------------------+----------------+------------------+-------------------------------+----------------------------------+----------------+----------------------+--------------------+------------------+---------------------+------------------+----------------------------+--------------+---------------+----------------+----------------------+-------------------------------------+----------------------+--------------------+----------------------+---------------------+----------------------+-----------------------+--------------------+----------------------+---------------------+----------------------+--------------------------------+------------------------+--------------------------------+----------+---------+\n",
      "|573697193355|/aws/containerins...|ip-172-24-69-98.e...|49632384803108978...|dp-us-west-2-cont...|            2022-10-01 00:00:47|                     1664582447|2022-10-01 00:00:42|      1664582442000|37121428900989879...|oracle-ndc-infra-...|[{\"Dimensions\":[[...|oracle-ndc-eks-cl...|i-04a4b2462d91b8365| m5.16xlarge|use1az2001nd-ns-o...|ip-172-24-69-98.e...|or-bsf001c-use1az...|or-bsf001c-use1az...|[\"cadvisor\",\"pod\"...|1664582439324| Pod|      0|{\"host\":\"ip-172-2...|         3000|           1500|                  2.34375|                 0.0|0.46186404337845793|               0.0|7.216625677788405E-4|              0.015395468112615263|               0|                 0|                              0|                                 0|      3221225472|                     0|           379383808|                 0|                    0|        2147483648|          0.8031492873774977|     326328320|              0|       344059904|    0.1286768665131043|                    10.68102518717448|             344059904|    86.3804890039493|                     0|                    0|    0.9261667870330517|     178.00925646775255|   91.62876746380324|                     0|                    0|    0.9261667870330517|                               0|                       2|                               2|   Running|us-west-2|\n",
      "|573697193355|/aws/containerins...|ip-172-24-69-98.e...|49632384803108978...|dp-us-west-2-cont...|            2022-10-01 00:00:47|                     1664582447|2022-10-01 00:00:42|      1664582442000|37121428900989879...|oracle-ndc-infra-...|[{\"Dimensions\":[[...|oracle-ndc-eks-cl...|i-04a4b2462d91b8365| m5.16xlarge|         kube-system|ip-172-24-69-98.e...|         whereabouts|                null|[\"cadvisor\",\"pod\"...|1664582434012| Pod|      0|{\"host\":\"ip-172-2...|          500|            500|                  0.78125|                 0.0|                0.0|               0.0|                 0.0|                               0.0|        46903296|                 0|                              0|                                 0|       262144000|                     0|            51937280|                 0|                    0|         262144000|         0.09804068449432346|             0|              0|        51466240|  0.001706520664479...|                             1.740625|               4562944|  4184234.2216388914|                     0|                    0|     6423.281164161796|      8428409.215818401|   4244174.994179509|                     0|                    0|    4435.8313891696025|                               0|                       1|                               1|   Running|us-west-2|\n",
      "|573697193355|/aws/containerins...|ip-172-24-69-98.e...|49632384803108978...|dp-us-west-2-cont...|            2022-10-01 00:00:47|                     1664582447|2022-10-01 00:00:42|      1664582442000|37121428900989879...|oracle-ndc-infra-...|[{\"Dimensions\":[[...|oracle-ndc-eks-cl...|i-04a4b2462d91b8365| m5.16xlarge|use1az2001nd-ns-o...|ip-172-24-69-98.e...|or-bsf001c-use1az...|or-bsf001c-use1az...|[\"cadvisor\",\"pod\"...|1664582433230| Pod|      0|{\"host\":\"ip-172-2...|         5000|           3500|                  5.46875|                 0.0|  2.090871767449423|0.5301184887358438|0.003266987136639...|               0.04181743534898846|               0|                 0|                              0|                                 0|      4294967296|                     0|           517623808|                 0|                    0|        2073741824|          0.7755701747492479|     491360256|              0|       516468736|   0.19315699919646467|                   12.024974822998047|             516468736|  1086.2426330914834|                     0|                    0|      4.63488242825317|     1764.0362521931563|   677.7936191016729|                     0|                    0|      4.63488242825317|                               0|                       2|                               2|   Running|us-west-2|\n",
      "|573697193355|/aws/containerins...|ip-172-24-69-98.e...|49632384803108978...|dp-us-west-2-cont...|            2022-10-01 00:00:47|                     1664582447|2022-10-01 00:00:42|      1664582442000|37121428900989879...|oracle-ndc-infra-...|[{\"Dimensions\":[[...|oracle-ndc-eks-cl...|i-04a4b2462d91b8365| m5.16xlarge|   amazon-cloudwatch|ip-172-24-69-98.e...|          fluent-bit|                null|[\"cadvisor\",\"pod\"...|1664582434458| Pod|      0|{\"host\":\"ip-172-2...|         null|            500|                  0.78125|  2.2390909747238052| 0.6533245955368072|0.5597727436809513|0.001020819680526...|                              null|        10657792|                 0|                              0|                                 0|       209715200|                     0|            55656448|                 0|                    0|         104857600|        0.039216273797729385|      27090944|              0|        55328768|  0.016850742647461846|                            21.484375|              45056000|   540.9284917968496|                     0|                    0|    1.7356634501115997|      839.4027547522478|   298.4742629553982|                     0|                    0|     1.675812986314648|                               0|                       1|                               1|   Running|us-west-2|\n",
      "|573697193355|/aws/containerins...|ip-172-24-69-98.e...|49632384803108978...|dp-us-west-2-cont...|            2022-10-01 00:00:47|                     1664582447|2022-10-01 00:00:42|      1664582442000|37121428900989879...|oracle-ndc-infra-...|[{\"Dimensions\":[[...|oracle-ndc-eks-cl...|i-04a4b2462d91b8365| m5.16xlarge|         kube-system|ip-172-24-69-98.e...|      kube-multus-ds|                null|[\"cadvisor\",\"pod\"...|1664582438442| Pod|      0|{\"host\":\"ip-172-2...|          100|            100|                  0.15625|                 0.0|                0.0|               0.0|                 0.0|                               0.0|        39612416|               162|                              0|                                 0|        52428800|                     0|            52428800|                 0|                    0|          52428800|        0.019608136898864693|       2539520|              0|        49823744|  0.011352804887303612|                           57.8984375|              30355456|   4198379.274912662|                     0|                    0|    6409.0638368637265|      8467660.977233825|   4269281.702321163|                     0|                    0|     4406.048675441591|                               0|                       1|                               1|   Running|us-west-2|\n",
      "+------------+--------------------+--------------------+--------------------+--------------------+-------------------------------+-------------------------------+-------------------+-------------------+--------------------+--------------------+--------------------+--------------------+-------------------+------------+--------------------+--------------------+--------------------+--------------------+--------------------+-------------+----+-------+--------------------+-------------+---------------+-------------------------+--------------------+-------------------+------------------+--------------------+----------------------------------+----------------+------------------+-------------------------------+----------------------------------+----------------+----------------------+--------------------+------------------+---------------------+------------------+----------------------------+--------------+---------------+----------------+----------------------+-------------------------------------+----------------------+--------------------+----------------------+---------------------+----------------------+-----------------------+--------------------+----------------------+---------------------+----------------------+--------------------------------+------------------------+--------------------------------+----------+---------+\n",
      "only showing top 5 rows\n",
      "\n"
     ]
    }
   ],
   "source": [
    "df.show(5)"
   ]
  },
  {
   "cell_type": "code",
   "execution_count": 14,
   "metadata": {},
   "outputs": [
    {
     "name": "stdout",
     "output_type": "stream",
     "text": [
      "PASS\n"
     ]
    }
   ],
   "source": [
    "print(err)"
   ]
  },
  {
   "cell_type": "markdown",
   "metadata": {},
   "source": [
    "## test the nested json connector"
   ]
  },
  {
   "cell_type": "code",
   "execution_count": 3,
   "metadata": {},
   "outputs": [],
   "source": [
    "from data_ingestion import Nested_Json_Connector"
   ]
  },
  {
   "cell_type": "code",
   "execution_count": 4,
   "metadata": {},
   "outputs": [
    {
     "name": "stdout",
     "output_type": "stream",
     "text": [
      "Nested_Json_Connector initialized with the following s3_file_path:s3a://metadata-graphdb/Cisco/Sample_Data/dpi-1.txt\n"
     ]
    }
   ],
   "source": [
    "obj = Nested_Json_Connector(\"s3a://metadata-graphdb/Cisco/Sample_Data/dpi-1.txt\")"
   ]
  },
  {
   "cell_type": "code",
   "execution_count": 5,
   "metadata": {},
   "outputs": [
    {
     "name": "stdout",
     "output_type": "stream",
     "text": [
      "PASS\n"
     ]
    }
   ],
   "source": [
    "err, df = obj.read_nested_json()"
   ]
  },
  {
   "cell_type": "code",
   "execution_count": 6,
   "metadata": {},
   "outputs": [
    {
     "name": "stdout",
     "output_type": "stream",
     "text": [
      "+--------------------+-----------------+------------+-------------------+--------------------+--------------------+-------------+--------------------+--------------------+--------------------+---------+-------+\n",
      "| applicationContexts|collectionEndTime|collectionId|collectionStartTime|       collectorUuid|           dataGpbkv| msgTimestamp|           nodeIdStr|          nodeIdUuid|          sensorData|   status|version|\n",
      "+--------------------+-----------------+------------+-------------------+--------------------+--------------------+-------------+--------------------+--------------------+--------------------+---------+-------+\n",
      "|[{ex_syslog_Clust...|    1667411650798|      400683|      1667411650798|YTUwOWExYWItYjE5O...|[{[{RAW, <190>1 2...|1667411650798|CLRDU00677A-CS000...|epwOGY6pRyqSRUUf6...|{{{[0, 1, 3, 4, 2...|{SUCCESS}|      1|\n",
      "|[{ex_syslog_Clust...|    1667411650820|      395187|      1667411650820|YTUwOWExYWItYjE5O...|[{[{RAW, <190>1 2...|1667411650821|CLRDU00065A-CS000...|JsOEV2vDRJK0XV9Rr...|{{{[0, 1, 3, 4, 2...|{SUCCESS}|      1|\n",
      "|[{ex_syslog_Clust...|    1667411650825|      395188|      1667411650825|YTUwOWExYWItYjE5O...|[{[{RAW, <190>1 2...|1667411650825|CLRDU00065A-CS000...|JsOEV2vDRJK0XV9Rr...|{{{[0, 1, 3, 4, 2...|{SUCCESS}|      1|\n",
      "|[{ex_syslog_Clust...|    1667411650947|      395189|      1667411650947|YTUwOWExYWItYjE5O...|[{[{RAW, <190>1 2...|1667411650947|CLRDU00065A-CS000...|JsOEV2vDRJK0XV9Rr...|{{{[0, 1, 3, 4, 2...|{SUCCESS}|      1|\n",
      "|[{ex_syslog_Clust...|    1667411651149|      396823|      1667411651149|YTUwOWExYWItYjE5O...|[{[{RAW, <190>1 2...|1667411651149|CLRDU00106A-CS000...|3l2507qJT9qQgZui6...|{{{[0, 1, 3, 4, 2...|{SUCCESS}|      1|\n",
      "+--------------------+-----------------+------------+-------------------+--------------------+--------------------+-------------+--------------------+--------------------+--------------------+---------+-------+\n",
      "only showing top 5 rows\n",
      "\n"
     ]
    }
   ],
   "source": [
    "df.show(5)"
   ]
  },
  {
   "cell_type": "code",
   "execution_count": null,
   "metadata": {},
   "outputs": [],
   "source": []
  }
 ],
 "metadata": {
  "instance_type": "ml.t3.2xlarge",
  "kernelspec": {
   "display_name": "Python 3 (Data Science)",
   "language": "python",
   "name": "python3__SAGEMAKER_INTERNAL__arn:aws:sagemaker:us-west-2:236514542706:image/datascience-1.0"
  },
  "language_info": {
   "codemirror_mode": {
    "name": "ipython",
    "version": 3
   },
   "file_extension": ".py",
   "mimetype": "text/x-python",
   "name": "python",
   "nbconvert_exporter": "python",
   "pygments_lexer": "ipython3",
   "version": "3.7.10"
  }
 },
 "nbformat": 4,
 "nbformat_minor": 4
}
